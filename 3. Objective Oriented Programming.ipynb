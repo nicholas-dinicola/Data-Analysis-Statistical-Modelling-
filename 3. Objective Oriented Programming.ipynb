{
 "cells": [
  {
   "cell_type": "markdown",
   "metadata": {},
   "source": [
    "# *INDIVIDUAL ASSIGNMENT*"
   ]
  },
  {
   "cell_type": "markdown",
   "metadata": {},
   "source": [
    "### Below is a class called Dog that has the attributes age and name. \n",
    "### Use this class to create three Dog instances, each instance with a different name and different age. \n",
    "### Put the instances into a list. \n",
    "### Write a function that takes a list of dogs and returns the instance with the greatest age. \n",
    "### The output must be in this format: \"The oldest dog is Rex, its age is 10 years old.\""
   ]
  },
  {
   "cell_type": "code",
   "execution_count": 11,
   "metadata": {},
   "outputs": [
    {
     "name": "stdout",
     "output_type": "stream",
     "text": [
      "[<__main__.Dog object at 0x7f9ccd851f10>, <__main__.Dog object at 0x7f9ccd851d60>, <__main__.Dog object at 0x7f9ccd851220>]\n"
     ]
    }
   ],
   "source": [
    "class Dog:\n",
    "    \n",
    "    def __init__(self, age, name):\n",
    "        self.age = age\n",
    "        self.name = name\n",
    "\n",
    "#Create three dog instances with different names and ages \n",
    "dog1 = Dog(3, \"Jack\")        \n",
    "dog2 = Dog(5, \"Lisa\")\n",
    "dog3 = Dog(10, \"Whisky\")\n",
    "\n",
    "#Storing the three instances in a list \n",
    "my_dogs = [dog1, dog2, dog3]\n",
    "print(my_dogs)      "
   ]
  },
  {
   "cell_type": "code",
   "execution_count": 12,
   "metadata": {},
   "outputs": [
    {
     "data": {
      "text/plain": [
       "'The oldest dog is Whisky, its age is 10 years old.'"
      ]
     },
     "execution_count": 12,
     "metadata": {},
     "output_type": "execute_result"
    }
   ],
   "source": [
    "def oldest_dog(alist):               #Creating a function that takes one argument\n",
    "    name = \"\"                        #Creating the variable 'name' which contains an empty string \n",
    "    age = 0                          #Creating the variable 'age' set to 0 \n",
    "    \n",
    "    for x in range(0,len(alist)):    #itarating from 0 to no. of the list  \n",
    "        \n",
    "        if alist[x].age > age:       #if the age of x in greater than the number stored in the 'age' variable\n",
    "                age = alist[x].age   #save that age to 'age' variable \n",
    "                name = alist[x].name     #save the name of that dog to the 'name' variable \n",
    "         \n",
    "    return(f\"The oldest dog is {name}, its age is {age} years old.\")    #return 'name' and 'age' variable\n",
    "    \n",
    "oldest_dog(dog_list)     #call the oldest_dog function \n"
   ]
  }
 ],
 "metadata": {
  "kernelspec": {
   "display_name": "Python 3",
   "language": "python",
   "name": "python3"
  },
  "language_info": {
   "codemirror_mode": {
    "name": "ipython",
    "version": 3
   },
   "file_extension": ".py",
   "mimetype": "text/x-python",
   "name": "python",
   "nbconvert_exporter": "python",
   "pygments_lexer": "ipython3",
   "version": "3.8.3"
  }
 },
 "nbformat": 4,
 "nbformat_minor": 4
}

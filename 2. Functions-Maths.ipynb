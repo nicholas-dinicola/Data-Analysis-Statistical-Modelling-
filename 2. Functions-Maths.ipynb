{
 "cells": [
  {
   "cell_type": "markdown",
   "metadata": {},
   "source": [
    "# __Individual Assignment - Nicholas Di Nicola__"
   ]
  },
  {
   "cell_type": "markdown",
   "metadata": {},
   "source": [
    "### Implement code containing the following functions:\n",
    "\n",
    "### 1. A function that takes a number and returns a list of its all possible factors (e.g., for 10, these are [1, 2, 5, 10]). Name this function \"factors\".\n",
    "\n",
    "### 2. A function that takes a number and returns True if the number is prime and False if the number is not prime (reuse the previous function!). E.g., for 7 it should return True, for 8 it should return False. Name this function \"is_prime\".\n",
    "\n",
    "### 3. A function that takes two numbers and returns their Highest Common Factor (e.g., for 12 and 18, it is 6). Name this function \"hcf\".\n",
    "\n",
    "### Make sure you the functions in steps 2 and 3 use the function in step 1. At the same time, make sure that each function works on its own.\n",
    "\n",
    "### Add comments to each function, to document what it does, what are its arguments and return values.\n",
    "\n",
    "### Write the code to use the function, making sure that they return the expected output.\n",
    "\n",
    "### Click on the title of this section to make your submission.\n",
    "\n"
   ]
  },
  {
   "cell_type": "code",
   "execution_count": 2,
   "metadata": {},
   "outputs": [
    {
     "data": {
      "text/plain": [
       "[1, 2, 5, 10]"
      ]
     },
     "execution_count": 2,
     "metadata": {},
     "output_type": "execute_result"
    }
   ],
   "source": [
    "'''\n",
    "1. \n",
    "A function that takes a number and returns a list of its all possible factors \n",
    "(e.g., for 10, these are [1, 2, 5, 10]). Name this function \"factors\".\n",
    "'''\n",
    "\n",
    "def factors(x):                     # Defining a function called factors which takes one argument X\n",
    "    mylist = []                     # create an empty list \n",
    "    for i in range(1, x + 1):       # iterate over a range of number that goes from 1 to X plus 1 \n",
    "        if x % i == 0:              # If the reminder of the division between i and x is equal to zero \n",
    "            mylist.append(i)        # Add that number to the list \n",
    "\n",
    "    return mylist                   # Return the list \n",
    " \n",
    "factors(10)                         # Call out the factors function with 10 as argument     "
   ]
  },
  {
   "cell_type": "code",
   "execution_count": 8,
   "metadata": {},
   "outputs": [
    {
     "name": "stdout",
     "output_type": "stream",
     "text": [
      "True\n",
      "False\n"
     ]
    }
   ],
   "source": [
    "'''\n",
    "2. A function that takes a number and returns True if the number is prime and False if the number is not prime \n",
    "(reuse the previous function!). \n",
    "E.g., for 7 it should return True, for 8 it should return False. Name this function \"is_prime\".\n",
    "'''\n",
    "\n",
    "def is_prime(x):                    # Defining a function called is_prime which takes one argument X\n",
    "    z = factors(x)                  # call out the factors function for X and assign the result to a variable named Z\n",
    "    if len(z) == 2:                 # If Z contains two elements  \n",
    "        print(\"True\")               # print True\n",
    "    else:                           # otherwise\n",
    "        print(\"False\")              # print False\n",
    "\n",
    "    \n",
    "is_prime(7)                         # Call out the is_prime function with 7 as argument \n",
    "is_prime(8)                         # Call out the is_prime function with 8 as argument\n"
   ]
  },
  {
   "cell_type": "code",
   "execution_count": 6,
   "metadata": {},
   "outputs": [
    {
     "data": {
      "text/plain": [
       "6"
      ]
     },
     "execution_count": 6,
     "metadata": {},
     "output_type": "execute_result"
    }
   ],
   "source": [
    "'''\n",
    "3. A function that takes two numbers and returns their Highest Common Factor \n",
    "(e.g., for 12 and 18, it is 6). Name this function \"hcf\".\n",
    "'''\n",
    "def hcf(x, y):                      # Defining a function called hcf which takes X and Y as arguments\n",
    "    alist = []                      # create an empty list \n",
    "    for a in factors(x):            # call out factors function for X and iterate over its elements  \n",
    "        if a in factors(y):         # if a same number occurs on facartored Y  \n",
    "            alist.append(a)         # Add this number to the list \n",
    "    return max(alist)               # Return the highest number within the list \n",
    " \n",
    "hcf(12, 18)                         # call out hcf function with 12 and 18 as arguments "
   ]
  }
 ],
 "metadata": {
  "kernelspec": {
   "display_name": "Python 3",
   "language": "python",
   "name": "python3"
  },
  "language_info": {
   "codemirror_mode": {
    "name": "ipython",
    "version": 3
   },
   "file_extension": ".py",
   "mimetype": "text/x-python",
   "name": "python",
   "nbconvert_exporter": "python",
   "pygments_lexer": "ipython3",
   "version": "3.8.3"
  }
 },
 "nbformat": 4,
 "nbformat_minor": 4
}

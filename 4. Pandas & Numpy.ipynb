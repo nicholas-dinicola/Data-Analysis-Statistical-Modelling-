{
 "cells": [
  {
   "cell_type": "markdown",
   "metadata": {},
   "source": [
    "# *INDIVIDUAL ASSIGNMENT - NICHOLAS DI NICOLA*"
   ]
  },
  {
   "cell_type": "markdown",
   "metadata": {},
   "source": [
    "### Download the file called \"movie-lens-ratings.csv\" (the data is also available at http://grouplens.org/datasets/). The data comes from a movie review website. Each row is a review, and the columns are the id of the author of the review, the id of the movie being reviewed, the time when the review was published, and the rating of the movie.\n",
    "\n",
    "### Answer the following questions:\n",
    "\n",
    "### 1. How many reviews are there with missing ratings?\n",
    "\n",
    "### 2. How many unique reviewers are there? How many unique movies?\n",
    "\n",
    "### 3. How many reviews did each reviewer write on average?\n",
    "\n",
    "### 4. How many reviews did each movie receive on average?\n",
    "\n",
    "### 5. How many reviews are there with the score of 5? With the score of 1?\n",
    "\n",
    "### 6. What is the distribution of mean scores of the movies? First build a dataframe containing mean scores for each movie, then create a histogram from this dataframe (df.hist) with 20 bins."
   ]
  },
  {
   "cell_type": "code",
   "execution_count": 2,
   "metadata": {},
   "outputs": [],
   "source": [
    "# import necessary libraries  \n",
    "import pandas as pd \n",
    "import numpy as np"
   ]
  },
  {
   "cell_type": "code",
   "execution_count": 22,
   "metadata": {},
   "outputs": [
    {
     "data": {
      "text/html": [
       "<div>\n",
       "<style scoped>\n",
       "    .dataframe tbody tr th:only-of-type {\n",
       "        vertical-align: middle;\n",
       "    }\n",
       "\n",
       "    .dataframe tbody tr th {\n",
       "        vertical-align: top;\n",
       "    }\n",
       "\n",
       "    .dataframe thead th {\n",
       "        text-align: right;\n",
       "    }\n",
       "</style>\n",
       "<table border=\"1\" class=\"dataframe\">\n",
       "  <thead>\n",
       "    <tr style=\"text-align: right;\">\n",
       "      <th></th>\n",
       "      <th>userId</th>\n",
       "      <th>movieId</th>\n",
       "      <th>rating</th>\n",
       "      <th>timestamp</th>\n",
       "    </tr>\n",
       "  </thead>\n",
       "  <tbody>\n",
       "    <tr>\n",
       "      <th>41135</th>\n",
       "      <td>295</td>\n",
       "      <td>466</td>\n",
       "      <td>4.0</td>\n",
       "      <td>1100129306</td>\n",
       "    </tr>\n",
       "    <tr>\n",
       "      <th>28926</th>\n",
       "      <td>212</td>\n",
       "      <td>5128</td>\n",
       "      <td>4.0</td>\n",
       "      <td>1228113497</td>\n",
       "    </tr>\n",
       "    <tr>\n",
       "      <th>93827</th>\n",
       "      <td>624</td>\n",
       "      <td>2004</td>\n",
       "      <td>3.0</td>\n",
       "      <td>1019128386</td>\n",
       "    </tr>\n",
       "    <tr>\n",
       "      <th>33244</th>\n",
       "      <td>239</td>\n",
       "      <td>3712</td>\n",
       "      <td>4.0</td>\n",
       "      <td>991862740</td>\n",
       "    </tr>\n",
       "    <tr>\n",
       "      <th>86843</th>\n",
       "      <td>580</td>\n",
       "      <td>2085</td>\n",
       "      <td>3.5</td>\n",
       "      <td>1165291304</td>\n",
       "    </tr>\n",
       "  </tbody>\n",
       "</table>\n",
       "</div>"
      ],
      "text/plain": [
       "       userId  movieId  rating   timestamp\n",
       "41135     295      466     4.0  1100129306\n",
       "28926     212     5128     4.0  1228113497\n",
       "93827     624     2004     3.0  1019128386\n",
       "33244     239     3712     4.0   991862740\n",
       "86843     580     2085     3.5  1165291304"
      ]
     },
     "execution_count": 22,
     "metadata": {},
     "output_type": "execute_result"
    }
   ],
   "source": [
    "#Read the file \n",
    "df = pd.read_csv(\"movie-lens-ratings.csv\")\n",
    "df.sample(5)"
   ]
  },
  {
   "cell_type": "code",
   "execution_count": 4,
   "metadata": {},
   "outputs": [
    {
     "name": "stdout",
     "output_type": "stream",
     "text": [
      "There are 0 missing values in ratings column\n"
     ]
    }
   ],
   "source": [
    "#Check for missing values in ratings column \n",
    "missing_na = df[\"rating\"].isnull().sum()\n",
    "\n",
    "print(f\"There are {missing_na} missing values in ratings column\")"
   ]
  },
  {
   "cell_type": "code",
   "execution_count": 23,
   "metadata": {},
   "outputs": [
    {
     "name": "stdout",
     "output_type": "stream",
     "text": [
      "There are 671 unique reviewers\n"
     ]
    }
   ],
   "source": [
    "#How many unique reviewers are there\n",
    "unique_rev = df[\"userId\"].value_counts().count()\n",
    "\n",
    "print(f\"There are {unique_rev} unique reviewers\")"
   ]
  },
  {
   "cell_type": "code",
   "execution_count": 6,
   "metadata": {},
   "outputs": [
    {
     "name": "stdout",
     "output_type": "stream",
     "text": [
      "There are 9066 unique movies\n"
     ]
    }
   ],
   "source": [
    "#How many unique movies \n",
    "unique_mov = df[\"movieId\"].value_counts().count()\n",
    "\n",
    "print(f\"There are {unique_mov} unique movies\")"
   ]
  },
  {
   "cell_type": "code",
   "execution_count": 7,
   "metadata": {},
   "outputs": [
    {
     "name": "stdout",
     "output_type": "stream",
     "text": [
      "Each reviewer wrote 149.03725782414307 reviews on avarage\n"
     ]
    }
   ],
   "source": [
    "#How many reviews did each reviewer write on average\n",
    "written_rev_avg = df[\"userId\"].value_counts().mean()\n",
    "\n",
    "print(f\"Each reviewer wrote {written_rev_avg} reviews on avarage\")"
   ]
  },
  {
   "cell_type": "code",
   "execution_count": 7,
   "metadata": {},
   "outputs": [
    {
     "name": "stdout",
     "output_type": "stream",
     "text": [
      "Each movie received 11.030664019413193 reviews on avarage\n"
     ]
    }
   ],
   "source": [
    "#How many reviews did each movie receive on average?\n",
    "received_movierev_avg = df[\"movieId\"].value_counts().mean()\n",
    "\n",
    "print(f\"Each movie received {received_movierev_avg} reviews on avarage\")"
   ]
  },
  {
   "cell_type": "code",
   "execution_count": 12,
   "metadata": {},
   "outputs": [
    {
     "name": "stdout",
     "output_type": "stream",
     "text": [
      "There are 15095 reviews with the score of 5\n",
      "There are 3326 reviews with the score of 1\n"
     ]
    }
   ],
   "source": [
    "#How many reviews are there with the score of 5? \n",
    "df5rate = df[df[\"rating\"] == 5]\n",
    "five_stars = df5rate[\"rating\"].count()\n",
    "\n",
    "print(f\"There are {five_stars} reviews with the score of 5\")\n",
    "\n",
    "#How many reviews are there with the score of 1?\n",
    "df1rate = df[df[\"rating\"] == 1]\n",
    "one_star = df1rate[\"rating\"].count()\n",
    "\n",
    "print(f\"There are {one_star} reviews with the score of 1\")"
   ]
  },
  {
   "cell_type": "code",
   "execution_count": 21,
   "metadata": {},
   "outputs": [
    {
     "data": {
      "text/plain": [
       "<matplotlib.axes._subplots.AxesSubplot at 0x7f80a1afb460>"
      ]
     },
     "execution_count": 21,
     "metadata": {},
     "output_type": "execute_result"
    },
    {
     "data": {
      "image/png": "[encoded data removed]",
      "text/plain": [
       "<Figure size 864x360 with 1 Axes>"
      ]
     },
     "metadata": {
      "needs_background": "light"
     },
     "output_type": "display_data"
    }
   ],
   "source": [
    "#What is the distribution of mean scores of the movies? \n",
    "movieid_rating_avg = df.groupby(\"movieId\")[\"rating\"].mean()\n",
    "movieid_rating_avg.hist(bins = 20, figsize = (12,5), color = \"#9c4a44\")"
   ]
  }
 ],
 "metadata": {
  "kernelspec": {
   "display_name": "Python 3",
   "language": "python",
   "name": "python3"
  },
  "language_info": {
   "codemirror_mode": {
    "name": "ipython",
    "version": 3
   },
   "file_extension": ".py",
   "mimetype": "text/x-python",
   "name": "python",
   "nbconvert_exporter": "python",
   "pygments_lexer": "ipython3",
   "version": "3.8.3"
  }
 },
 "nbformat": 4,
 "nbformat_minor": 4
}
